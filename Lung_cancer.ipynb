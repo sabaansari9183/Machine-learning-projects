{
  "nbformat": 4,
  "nbformat_minor": 0,
  "metadata": {
    "colab": {
      "provenance": [],
      "authorship_tag": "ABX9TyP/DF9Qirav+IZY2lDdxuV7",
      "include_colab_link": true
    },
    "kernelspec": {
      "name": "python3",
      "display_name": "Python 3"
    },
    "language_info": {
      "name": "python"
    }
  },
  "cells": [
    {
      "cell_type": "markdown",
      "metadata": {
        "id": "view-in-github",
        "colab_type": "text"
      },
      "source": [
        "<a href=\"https://colab.research.google.com/github/sabaansari9183/Machine-learning-projects-/blob/main/Lung_cancer.ipynb\" target=\"_parent\"><img src=\"https://colab.research.google.com/assets/colab-badge.svg\" alt=\"Open In Colab\"/></a>"
      ]
    },
    {
      "cell_type": "code",
      "source": [
        "import pandas as pd\n",
        "import numpy as np\n",
        "from sklearn.model_selection import train_test_split\n",
        "from sklearn.ensemble import RandomForestClassifier\n",
        "from sklearn.metrics import accuracy_score, classification_report\n",
        "from sklearn.preprocessing import LabelEncoder\n",
        "\n",
        "# 1) Load\n",
        "df = pd.read_csv('/content/dataset_med.csv')\n",
        "\n",
        "# 2) Dates -> duration (safe)\n",
        "df['diagnosis_date'] = pd.to_datetime(df.get('diagnosis_date'), errors='coerce')\n",
        "df['end_treatment_date'] = pd.to_datetime(df.get('end_treatment_date'), errors='coerce')\n",
        "df['treatment_duration'] = (df['end_treatment_date'] - df['diagnosis_date']).dt.days\n",
        "\n",
        "# 3) Drop id and the raw dates (if present)\n",
        "df = df.drop(columns=['id','diagnosis_date','end_treatment_date'], errors='ignore')\n",
        "\n",
        "# 4) Target: normalize and map survived -> 0/1\n",
        "if 'survived' not in df.columns:\n",
        "    raise KeyError(\"The dataset must contain a 'survived' column.\")\n",
        "\n",
        "# normalize text to lowercase and map common yes/no values\n",
        "df['survived'] = df['survived'].astype(str).str.strip().str.lower()\n",
        "map_dict = {'yes': 1, 'y':1, '1':'1', 'no': 0, 'n':0, '0':'0'}\n",
        "df['survived'] = df['survived'].map({'yes':1,'no':0})  # try the simple map first\n",
        "\n",
        "# fallback: if mapping produced NaNs (unexpected labels), use LabelEncoder\n",
        "if df['survived'].isnull().any():\n",
        "    le = LabelEncoder()\n",
        "    df['survived'] = le.fit_transform(df['survived'].astype(str))\n",
        "\n",
        "# 5) Drop rows missing the target\n",
        "df = df.dropna(subset=['survived'])\n",
        "df['survived'] = df['survived'].astype(int)\n",
        "\n",
        "# 6) Prepare X, y\n",
        "y = df['survived']\n",
        "X = df.drop(columns=['survived'])\n",
        "\n",
        "# 7) Numeric imputation\n",
        "num_cols = X.select_dtypes(include=[np.number]).columns.tolist()\n",
        "if len(num_cols) > 0:\n",
        "    X[num_cols] = X[num_cols].fillna(X[num_cols].median())\n",
        "\n",
        "# 8) Categorical encoding (safe, simple)\n",
        "cat_cols = X.select_dtypes(include=['object','category']).columns.tolist()\n",
        "if len(cat_cols) > 0:\n",
        "    X = pd.get_dummies(X, columns=cat_cols, drop_first=True)\n",
        "\n",
        "# Ensure no NaNs remain\n",
        "X = X.fillna(0)\n",
        "\n",
        "# 9) Train/test split (stratify if possible)\n",
        "try:\n",
        "    X_train, X_test, y_train, y_test = train_test_split(\n",
        "        X, y, test_size=0.2, random_state=42, stratify=y\n",
        "    )\n",
        "except ValueError:\n",
        "    # if stratify fails (e.g., single class), do a plain split\n",
        "    X_train, X_test, y_train, y_test = train_test_split(\n",
        "        X, y, test_size=0.2, random_state=42\n",
        "    )\n",
        "\n",
        "# 10) Train model\n",
        "model = RandomForestClassifier(n_estimators=200, random_state=42)\n",
        "model.fit(X_train, y_train)\n",
        "\n",
        "# 11) Predict (handle probability outputs if necessary)\n",
        "y_pred = model.predict(X_test)\n",
        "\n",
        "# 12) Evaluate\n",
        "print(\"Shapes -> X_test:\", X_test.shape, \"y_test:\", y_test.shape, \"y_pred:\", np.asarray(y_pred).shape)\n",
        "print(\"Accuracy:\", accuracy_score(y_test, y_pred))\n",
        "print(classification_report(y_test, y_pred))\n",
        "\n"
      ],
      "metadata": {
        "colab": {
          "base_uri": "https://localhost:8080/"
        },
        "id": "JD2ccJrJ5DhQ",
        "outputId": "9b97b690-bf15-43e8-fe7b-7cf2e117dcf3"
      },
      "execution_count": null,
      "outputs": [
        {
          "output_type": "stream",
          "name": "stdout",
          "text": [
            "Shapes -> X_test: (178000, 45) y_test: (178000,) y_pred: (178000,)\n",
            "Accuracy: 1.0\n",
            "              precision    recall  f1-score   support\n",
            "\n",
            "           0       1.00      1.00      1.00    178000\n",
            "\n",
            "    accuracy                           1.00    178000\n",
            "   macro avg       1.00      1.00      1.00    178000\n",
            "weighted avg       1.00      1.00      1.00    178000\n",
            "\n"
          ]
        }
      ]
    }
  ]
}